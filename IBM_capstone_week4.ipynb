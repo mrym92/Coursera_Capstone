{
 "cells": [
  {
   "cell_type": "markdown",
   "metadata": {},
   "source": [
    "<h1 align='center'>Capstone Project</h1>"
   ]
  },
  {
   "cell_type": "markdown",
   "metadata": {},
   "source": [
    "<h2 align='center'>TOURISUM IN BAHRAIN</h2>"
   ]
  },
  {
   "cell_type": "markdown",
   "metadata": {},
   "source": [
    "<h2>Introduction </h2>"
   ]
  },
  {
   "cell_type": "markdown",
   "metadata": {},
   "source": [
    "Bahrain is a small island country located in the Arabian Gulf between kingdom of Saudi Arabia and Qatar. Bahrain enjoys unique culture and tourism destination in the GCC region. It blends modern Arab culture with the history and tradition of the Middle East as the capital Manama been designated as Capital of Arab Culture in 2012.\n",
    "Find right hotel to stay, restaurant to dine in or top places to visit might be a challenge for tourists. The main objectives of this project to explore Bahrain top big cities and venues surrounding the cities and recommend best places. Data science methodology and k-means clustering algorithm are used to carry out analysis. The result can help and satisfy visitor’s needs, where best hotel to stay? Where best places to visit? And best restaurants to dine in."
   ]
  },
  {
   "cell_type": "markdown",
   "metadata": {},
   "source": [
    "<h2>Data Sources</h2>"
   ]
  },
  {
   "cell_type": "markdown",
   "metadata": {},
   "source": [
    "The data sources used in this project: \n",
    "<ol>\n",
    "<li>List of top largest cities in Bahrain and geographic location where data scraped from genomes website using BeautifulSoup python library.</li>   \n",
    "\n",
    "</br>\n",
    "<li>Foursquare venue data</li>\n",
    "<ol>    \n",
    "<li>List of venues surrounding the cities where basic details like: venue name, id, geolocation coordinates and category been extracted by regular Foursquare venue data API.</li>\n",
    "<li>The details of venues like total likes count been extracted by premium Foursquare Venue details API.</li></ol>\n",
    "\n"
   
   ]
  },
  {
   "cell_type": "markdown",
   "metadata": {},
   "source": [
    "<h2>Data Cleaning</h2>"
   ]
  },
  {
   "cell_type": "markdown",
   "metadata": {},
   "source": [
    "<ol>\n",
    "\n",
    "<li>List of top largest cities were cleaned as follows:</li>\n",
    "<ol>\n",
    "<li>Split city column to get only city’s name</li>\n",
    "<li>Split location into latitude and longitude coordinates</li>\n",
    "</ol>\n",
    "</br>\n",
    "<li>Foursquare venue data cleaned as follows:</li>\n",
    "<ol>\n",
    "<li>Some of venue categories were removed as this project aims to benefit visitors; only 46 categories out of 115 were kept like hotels, coffee shops, restaurants, shopping malls.</li>\n",
    "</ol>\n",
    "\n"
   ]
  },
  {
   "cell_type": "code",
   "execution_count": null,
   "metadata": {},
   "outputs": [],
   "source": []
  }
 ],
 "metadata": {
  "kernelspec": {
   "display_name": "Python",
   "language": "python",
   "name": "conda-env-python-py"
  },
  "language_info": {
   "codemirror_mode": {
    "name": "ipython",
    "version": 3
   },
   "file_extension": ".py",
   "mimetype": "text/x-python",
   "name": "python",
   "nbconvert_exporter": "python",
   "pygments_lexer": "ipython3",
   "version": "3.6.11"
  }
 },
 "nbformat": 4,
 "nbformat_minor": 4
}
